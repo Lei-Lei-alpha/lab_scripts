{
 "cells": [
  {
   "cell_type": "markdown",
   "id": "cdf0df81-908c-4a5e-bb12-1bcfd24cd7e5",
   "metadata": {},
   "source": [
    "# Temperature programme calculator and visualiser"
   ]
  },
  {
   "cell_type": "markdown",
   "id": "ebadd146-8ab5-4ddb-a154-9fd67c6d93e3",
   "metadata": {},
   "source": [
    "## The temprog class"
   ]
  },
  {
   "cell_type": "code",
   "execution_count": 27,
   "id": "c3cc2ab5-b541-4b31-9fdb-875939d490b9",
   "metadata": {},
   "outputs": [],
   "source": [
    "import matplotlib.pyplot as plt\n",
    "import numpy as np\n",
    "\n",
    "class tempprog:\n",
    "    \"\"\"\n",
    "    A class that processes temperature programme.\n",
    "    \"\"\"\n",
    "    def __init__(self, name, description):\n",
    "        self.name = name\n",
    "        self.description = description\n",
    "        \n",
    "    def __str__(self):\n",
    "        return \"Temperature programme {0}:\\n This programme has {1} steps, including {2} ramp and {3} dwell steps. \\\n",
    "        \\n This programme takes {4:.2f} hours to run.\".format(self.name,\n",
    "                                                              self.steps(print_steps=False),\n",
    "                                                              self.ramps(print_ramps=False),\n",
    "                                                              self.dwells(print_dwells=False),\n",
    "                                                              self.timing(print_t=False))\n",
    "\n",
    "    def ramps(self, print_ramps=True):\n",
    "        \"\"\"\n",
    "        Calculates the number of ramp steps in a tempprog object\n",
    "        \"\"\"\n",
    "        n_ramps = sum((step[0] == \"R\" or step[0] == \"ramp\") for step in self.description)\n",
    "        if n_ramps == 1:\n",
    "            if print_ramps:\n",
    "                print(f'{self.name} has only one ramp step.')\n",
    "        else:\n",
    "            if print_ramps:\n",
    "                print(f'{self.name} has {n_ramps} ramp steps.')\n",
    "        return n_ramps\n",
    "        \n",
    "    def dwells(self, print_dwells=True):\n",
    "        \"\"\"\n",
    "        Calculates the number of dwell steps in a tempprog object\n",
    "        \"\"\"\n",
    "        n_dwells = sum((step[0] == \"D\" or step[0] == \"dwell\") for step in self.description)\n",
    "        if n_dwells == 1:\n",
    "            if print_dwells:\n",
    "                print(f'{self.name} has only one dwell step.')\n",
    "        else:\n",
    "            if print_dwells:\n",
    "                print(f'{self.name} has {n_dwells} dwell steps.')\n",
    "        return n_dwells\n",
    "    \n",
    "    def steps(self, print_steps=True):\n",
    "        \"\"\"\n",
    "        Calculates the total steps of a tempprog object\n",
    "        \"\"\"\n",
    "        n_steps = sum((step[0] == \"R\" or step[0] == \"ramp\") for step in self.description)\n",
    "        + sum((step[0] == \"D\" or step[0] == \"dwell\") for step in self.description)\n",
    "        if n_steps == 1:\n",
    "            if print_steps:\n",
    "                print(f'{self.name} has only one step.')\n",
    "        else:\n",
    "            if print_steps:\n",
    "                print(f'{self.name} has {n_steps} steps.')\n",
    "        return n_steps\n",
    "        \n",
    "    def timing(self, step_index=None, step_time=False, print_t=True):\n",
    "        \"\"\"\n",
    "        Calculates the time the programme consumes.\n",
    "        Pass the step index and set step_time to True to calculate how long a specific step will take\n",
    "        \"\"\"\n",
    "        time = 0\n",
    "        if step_time:\n",
    "            step = self.description[step_index]\n",
    "            if step[0] == \"R\" or step[0] == \"ramp\":\n",
    "                time += abs(step[2]-step[1])/(60*step[3])\n",
    "                if print_t:\n",
    "                    print(\"Step {0} of {1} takes {2:.2f} hours to run.\".format(step_index+1, self.name, time))\n",
    "            elif step[0] == \"D\" or step[0] == \"dwell\":\n",
    "                time += step[2]\n",
    "                if print_t:\n",
    "                    print(\"Step {0} of {1} takes {2:.2f} hours to run.\".format(step_index+1, self.name, time))\n",
    "        else:\n",
    "            for step in self.description:\n",
    "                if step[0] == \"R\" or step[0] == \"ramp\":\n",
    "                    time += abs(step[2]-step[1])/(60*step[3])\n",
    "                elif step[0] == \"D\" or step[0] == \"dwell\":\n",
    "                    time += step[2]\n",
    "            if print_t:\n",
    "                print(\"{0} takes {1:.2f} hours to run.\".format(self.name, time))\n",
    "        return time\n",
    "\n",
    "    def plot(self, savefig=True, dpi=300, **kwargs):\n",
    "        \"\"\"\n",
    "        Function to plot the programme.\n",
    "        Can pass matplotlib.pyplot kwargs to set plot parameters\n",
    "        \"\"\"\n",
    "        time, temp = [], []\n",
    "        for i, step in enumerate(self.description):\n",
    "            if i==0:\n",
    "                t = self.timing(i,True,False)\n",
    "                time.append(np.linspace(0, t, int(self.timing(i,True,False)*60)))\n",
    "            else:\n",
    "                time.append(np.linspace(t, t + self.timing(i,True,False), int(self.timing(i,True,False)*60)))\n",
    "                t += self.timing(i,True,False)\n",
    "            if step[0] == \"R\" or step[0] == \"ramp\":\n",
    "                temp.append(np.linspace(step[1], step[2], int(self.timing(i,True,False)*60)))\n",
    "            elif step[0] == \"D\" or step[0] == \"dwell\":\n",
    "                temp.append(np.linspace(step[1], step[1], int(self.timing(i,True,False)*60)))\n",
    "                \n",
    "        fig, ax = plt.subplots(constrained_layout=True)\n",
    "        \n",
    "        for i in range(len(temp)):\n",
    "            ax.plot(time[i], temp[i], **kwargs)\n",
    "        \n",
    "        ax.set_xlabel(\"time (h)\", fontsize=16)\n",
    "        ax.set_ylabel(r\"temperature ($^{\\circ}$C)\", fontsize=16)\n",
    "        ax.tick_params(axis='both', labelsize= 14)\n",
    "        \n",
    "        if savefig:\n",
    "            plt.savefig(self.name+\".jpg\", dpi = dpi)\n",
    "        else:\n",
    "            print(\"To save figure, set savefig=True.\")\n",
    "            \n",
    "        plt.show()"
   ]
  },
  {
   "cell_type": "markdown",
   "id": "aae5697f-fe2c-4bea-a611-d9af177cac3f",
   "metadata": {},
   "source": [
    "## Example"
   ]
  },
  {
   "cell_type": "markdown",
   "id": "be8bf2a8-abe7-475c-b6bd-8c3150bc71cb",
   "metadata": {},
   "source": [
    "Creat a temprog object, and quick check information."
   ]
  },
  {
   "cell_type": "code",
   "execution_count": 28,
   "id": "d78dbf84-68b1-4bb0-a36a-89f98109461b",
   "metadata": {},
   "outputs": [
    {
     "name": "stdout",
     "output_type": "stream",
     "text": [
      "Temperature programme AF_AD_LSTO_pre:\n",
      " This programme has 3 steps, including 3 ramp and 1 dwell steps.         \n",
      " This programme takes 18.12 hours to run.\n"
     ]
    }
   ],
   "source": [
    "description =(\n",
    "    (\"ramp\", 20, 800, 5),\n",
    "    (\"ramp\", 800, 1050, 2),\n",
    "    (\"dwell\", 1050, 10),\n",
    "    (\"ramp\", 1050, 20, 5)\n",
    ")\n",
    "\n",
    "AF_AD_LSTO_pre = tempprog(\"AF_AD_LSTO_pre\", description)\n",
    "# Quick check the info of the temperature programme\n",
    "print(AF_AD_LSTO_pre)"
   ]
  },
  {
   "cell_type": "markdown",
   "id": "2e43fcc7-e478-4213-be7f-2bcb461e5be1",
   "metadata": {},
   "source": [
    "Specify the information of interest."
   ]
  },
  {
   "cell_type": "code",
   "execution_count": 11,
   "id": "8358a0e7-3ce2-4d99-ba8f-fca3e5d63572",
   "metadata": {},
   "outputs": [
    {
     "name": "stdout",
     "output_type": "stream",
     "text": [
      "AF_AD_LSTO_pre has 3 steps.\n"
     ]
    },
    {
     "data": {
      "text/plain": [
       "3"
      ]
     },
     "execution_count": 11,
     "metadata": {},
     "output_type": "execute_result"
    }
   ],
   "source": [
    "AF_AD_LSTO_pre.steps()"
   ]
  },
  {
   "cell_type": "code",
   "execution_count": 12,
   "id": "321711fa-8ae6-402f-bace-a1ecccc07156",
   "metadata": {},
   "outputs": [
    {
     "name": "stdout",
     "output_type": "stream",
     "text": [
      "AF_AD_LSTO_pre has only one dwell step.\n"
     ]
    },
    {
     "data": {
      "text/plain": [
       "1"
      ]
     },
     "execution_count": 12,
     "metadata": {},
     "output_type": "execute_result"
    }
   ],
   "source": [
    "AF_AD_LSTO_pre.dwells()"
   ]
  },
  {
   "cell_type": "code",
   "execution_count": 13,
   "id": "421026b3-7323-4956-96d4-9a51becb0514",
   "metadata": {},
   "outputs": [
    {
     "name": "stdout",
     "output_type": "stream",
     "text": [
      "AF_AD_LSTO_pre takes 18.12 hours to run.\n"
     ]
    },
    {
     "data": {
      "text/plain": [
       "18.116666666666667"
      ]
     },
     "execution_count": 13,
     "metadata": {},
     "output_type": "execute_result"
    }
   ],
   "source": [
    "AF_AD_LSTO_pre.timing()"
   ]
  },
  {
   "cell_type": "code",
   "execution_count": 14,
   "id": "5c4a3454-df13-4960-928f-f1d3cf4f745d",
   "metadata": {},
   "outputs": [
    {
     "name": "stdout",
     "output_type": "stream",
     "text": [
      "Step 2 of AF_AD_LSTO_pre takes 2.08 hours to run.\n"
     ]
    },
    {
     "data": {
      "text/plain": [
       "2.0833333333333335"
      ]
     },
     "execution_count": 14,
     "metadata": {},
     "output_type": "execute_result"
    }
   ],
   "source": [
    "AF_AD_LSTO_pre.timing(1,True)"
   ]
  },
  {
   "cell_type": "markdown",
   "id": "a32151fe-d4a7-4bf5-a942-70f1790d460f",
   "metadata": {},
   "source": [
    "## Visualisation of the temperature programme"
   ]
  },
  {
   "cell_type": "code",
   "execution_count": 22,
   "id": "7c25ecba-d556-4372-bff7-95c8bf44d6db",
   "metadata": {},
   "outputs": [
    {
     "name": "stdout",
     "output_type": "stream",
     "text": [
      "To save figure, set savefig=True.\n"
     ]
    },
    {
     "data": {
      "image/png": "[encoded data removed]",
      "text/plain": [
       "<Figure size 432x288 with 1 Axes>"
      ]
     },
     "metadata": {
      "needs_background": "light"
     },
     "output_type": "display_data"
    }
   ],
   "source": [
    "kwargs={\n",
    "    'linestyle': '-',\n",
    "    'lw': 2,\n",
    "    \"color\": \"#b2182b\",\n",
    "       }\n",
    "AF_AD_LSTO_pre.plot(False, **kwargs)"
   ]
  }
 ],
 "metadata": {
  "kernelspec": {
   "display_name": "Python 3 (ipykernel)",
   "language": "python",
   "name": "python3"
  },
  "language_info": {
   "codemirror_mode": {
    "name": "ipython",
    "version": 3
   },
   "file_extension": ".py",
   "mimetype": "text/x-python",
   "name": "python",
   "nbconvert_exporter": "python",
   "pygments_lexer": "ipython3",
   "version": "3.8.10"
  }
 },
 "nbformat": 4,
 "nbformat_minor": 5
}
