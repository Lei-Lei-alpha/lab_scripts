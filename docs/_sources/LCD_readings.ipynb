{
 "cells": [
  {
   "cell_type": "markdown",
   "id": "4ece1069-2e44-45b6-be2a-9d3e9884243b",
   "metadata": {},
   "source": [
    "# Use deep learning to recognise LCD readings"
   ]
  },
  {
   "cell_type": "markdown",
   "id": "f6297121-ea2c-4dca-a9f9-53908c5bb947",
   "metadata": {},
   "source": [
    "## Train the text recognition model using <u>deep-text-recognition</u> ([github link](https://github.com/clovaai/deep-text-recognition-benchmark))\n",
    "### Different settings and models were used to achieve best acuracy. The arguments are listed as follow:<br>\n",
    "---\n",
    "**Basic settings:**\n",
    "\n",
    "|Command|help|Input|\n",
    "|:---:|:---:|:---:|\n",
    "|--exp_name|Where to store logs and models|Directory to store trained model|\n",
    "|--train_data|required=True, path to training dataset|Directory of training dataset|\n",
    "|--valid_data|required=True, path to validation dataset|Directory of training dataset|\n",
    "|--manualSeed|type=int, default=1111|for random seed setting|\n",
    "|--workers|type=int, number of data loading workers, default=4|int|\n",
    "|--batch_size|type=int, default=192|input batch size|\n",
    "|--num_iter|type=int, default=300000|number of iterations to train for|\n",
    "|--valInterval|type=int, default=2000, Interval between each validation|int|\n",
    "|--saved_model|default='', path of model to continue training|Directory|\n",
    "|--FT|action='store_true', whether to do fine-tuning|No input, activates by include this argument|\n",
    "|--adam|action='store_true', Whether to use adam (default is Adadelta)|No input|\n",
    "|--lr|type=float, default=1, learning rate, default=1.0 for Adadelta|float|\n",
    "|--beta1|type=float, default=0.9, beta1 for adam. default=0.9|float|\n",
    "|--rho|type=float, default=0.95, decay rate rho for Adadelta. default=0.95|float|\n",
    "|--eps|type=float, default=1e-8, eps for Adadelta. default=1e-8|float|\n",
    "|--grad_clip| type=float, default=5, gradient clipping value. default=5|float|\n",
    "|--baiduCTC| action='store_true', for data_filtering_off mode|No input|\n",
    "\n",
    "---\n",
    "**Data processing:**\n",
    "\n",
    "|Command|help|Input|\n",
    "|:---:|:---:|:---:|\n",
    "|--select_data| type=str, default='MJ-ST', select training data (default is MJ-ST, which means MJ and ST used as training data|For use sample data|\n",
    "|--batch_ratio| type=str, default='0.5-0.5', assign ratio for each selected data in the batch|Use with MJ-ST|\n",
    "|--total_data_usage_ratio| type=str, default='1.0', total data usage ratio, this ratio is multiplied to total number of data.|For use part of data|\n",
    "|--batch_max_length| type=int, default=25, maximum-label-length| |\n",
    "|--imgH| type=int, default=32, the height of the input image|image size|\n",
    "|--imgW| type=int, default=100, the width of the input image|image size|\n",
    "|--rgb| action='store_true', use rgb input'|No input|\n",
    "|--character| type=str, default='0123456789abcdefghijklmnopqrstuvwxyz', character label|To add or fileter symbols, characters|\n",
    "|--sensitive| action='store_true', for sensitive character mode|Use this to recognise Upper case|\n",
    "|--PAD| action='store_true', whether to keep ratio then pad for image resize| |\n",
    "|--data_filtering_off| action='store_true', for data_filtering_off mode|No input|\n",
    "\n",
    "---\n",
    "**Model Architecture:**\n",
    "\n",
    "|Command|help|Input|\n",
    "|:---:|:---:|:---:|\n",
    "|--Transformation| type=str, required=True, Transformation stage. |None or TPS|\n",
    "|--FeatureExtraction| type=str, required=True, FeatureExtraction stage. |VGG, RCNN or ResNet|\n",
    "|--SequenceModeling| type=str, required=True, SequenceModeling stage. |None or BiLSTM|\n",
    "|--Prediction| type=str, required=True, Prediction stage. |CTC or Attn|\n",
    "|--num_fiducial| type=int, default=20, number of fiducial points of TPS-STN|int|\n",
    "|--input_channel| type=int, default=1, the number of input channel of Feature extractor|int|\n",
    "|--output_channel| type=int, default=512, the number of output channel of Feature extractor|int|\n",
    "|--hidden_size| type=int, default=256, the size of the LSTM hidden state|int|"
   ]
  },
  {
   "cell_type": "markdown",
   "id": "475f8f5d-2812-47c3-84fe-b0a152414f3d",
   "metadata": {},
   "source": [
    "### Train the models\n",
    "The variables used will be:\n",
    "\n",
    "|Model|Experiment Name|Command used|\n",
    "|:---:|:---:|:---:|\n",
    "|VGG | vgg-notran-nolstm-ctc | CUDA_VISIBLE_DEVICES=0 python3 train.py --exp_name vgg-notran-nolstm-ctc \\ --train_data result/train --valid_data result/test --batch_size 200 \\ --Transformation None --FeatureExtraction VGG --SequenceModeling None --Prediction CTC \\ --num_iter 10000 --valInterval 1000 |\n",
    "|VGG | vgg-tps-nolstm-ctc| CUDA_VISIBLE_DEVICES=0 python3 train.py --exp_name vgg-tps-nolstm-ctc \\ --train_data result/train --valid_data result/test --batch_size 200 \\ --Transformation TPS --FeatureExtraction VGG --SequenceModeling None --Prediction CTC \\ --num_iter 10000 --valInterval 1000 |\n",
    "|VGG |vgg-notran-nolstm-attn|CUDA_VISIBLE_DEVICES=0 python3 train.py --exp_name vgg-notran-nolstm-attn \\ --train_data result/train --valid_data result/test --batch_size 200 \\ --Transformation None --FeatureExtraction VGG --SequenceModeling None --Prediction Attn \\ --num_iter 10000 --valInterval 1000|\n",
    "|RCNN | rcnn-notran-nolstm-ctc | CUDA_VISIBLE_DEVICES=0 python3 train.py --exp_name rcnn-notran-nolstm-ctc \\ --train_data result/train --valid_data result/test --batch_size 200 \\ --Transformation None --FeatureExtraction RCNN --SequenceModeling None --Prediction CTC \\ --num_iter 10000 --valInterval 1000 |\n",
    "|RCNN | rcnn-notran-nolstm-atnn | CUDA_VISIBLE_DEVICES=0 python3 train.py --exp_name rcnn-notran-nolstm-atnn \\ --train_data result/train --valid_data result/test --batch_size 200 \\ --Transformation None --FeatureExtraction RCNN --SequenceModeling None --Prediction Attn \\ --num_iter 10000 --valInterval 1000 |\n",
    "|ResNet | resnet-notran-nolstm-ctc | CUDA_VISIBLE_DEVICES=0 python3 train.py --exp_name resnet-notran-nolstm-ctc \\ --train_data result/train --valid_data result/test --batch_size 200 \\ --Transformation None --FeatureExtraction ResNet --SequenceModeling None --Prediction CTC \\ --num_iter 10000 --valInterval 1000 |\n",
    "|ResNet | resnet-notran-nolstm-atnn | CUDA_VISIBLE_DEVICES=0 python3 train.py --exp_name resnet-notran-nolstm-atnn \\ --train_data result/train --valid_data result/test --batch_size 200 \\ --Transformation None --FeatureExtraction ResNet --SequenceModeling None --Prediction Attn \\ --num_iter 10000 --valInterval 1000 |"
   ]
  },
  {
   "cell_type": "markdown",
   "id": "cff14577-2ca5-4d64-b470-b8b8a821b6d1",
   "metadata": {},
   "source": [
    "### Experiment checklist"
   ]
  },
  {
   "cell_type": "code",
   "execution_count": 1,
   "id": "9624ab32-e4df-448d-bca2-580e500a099f",
   "metadata": {},
   "outputs": [
    {
     "data": {
      "application/vnd.jupyter.widget-view+json": {
       "model_id": "dda5037aa39c431286902ff0d6a4dbbe",
       "version_major": 2,
       "version_minor": 0
      },
      "text/plain": [
       "Checkbox(value=False, description='vgg-notran-nolstm-ctc')"
      ]
     },
     "metadata": {},
     "output_type": "display_data"
    },
    {
     "data": {
      "application/vnd.jupyter.widget-view+json": {
       "model_id": "46821f9dee254838b0e095a6249eaebc",
       "version_major": 2,
       "version_minor": 0
      },
      "text/plain": [
       "Checkbox(value=False, description='vgg-notran-nolstm-attn')"
      ]
     },
     "metadata": {},
     "output_type": "display_data"
    },
    {
     "data": {
      "application/vnd.jupyter.widget-view+json": {
       "model_id": "1d22914b901040efbc3af5506d414737",
       "version_major": 2,
       "version_minor": 0
      },
      "text/plain": [
       "Checkbox(value=False, description='rcnn-notran-nolstm-ctc')"
      ]
     },
     "metadata": {},
     "output_type": "display_data"
    },
    {
     "data": {
      "application/vnd.jupyter.widget-view+json": {
       "model_id": "192c27a88d3d4b55bf080f8236ca8c1f",
       "version_major": 2,
       "version_minor": 0
      },
      "text/plain": [
       "Checkbox(value=False, description='rcnn-notran-nolstm-atnn')"
      ]
     },
     "metadata": {},
     "output_type": "display_data"
    },
    {
     "data": {
      "application/vnd.jupyter.widget-view+json": {
       "model_id": "2b753ea763bd4e878dbacda6c4b0e9a4",
       "version_major": 2,
       "version_minor": 0
      },
      "text/plain": [
       "Checkbox(value=False, description='resnet-notran-nolstm-ctc')"
      ]
     },
     "metadata": {},
     "output_type": "display_data"
    },
    {
     "data": {
      "application/vnd.jupyter.widget-view+json": {
       "model_id": "7227757733c94af4bdf9a917e5ee8c26",
       "version_major": 2,
       "version_minor": 0
      },
      "text/plain": [
       "Checkbox(value=False, description='resnet-notran-nolstm-atnn')"
      ]
     },
     "metadata": {},
     "output_type": "display_data"
    }
   ],
   "source": [
    "from IPython.display import display\n",
    "from ipywidgets import Checkbox\n",
    "\n",
    "box1 = Checkbox(False, description='vgg-notran-nolstm-ctc')\n",
    "box2 = Checkbox(False, description='vgg-notran-nolstm-attn')\n",
    "box3 = Checkbox(False, description='rcnn-notran-nolstm-ctc')\n",
    "box4 = Checkbox(False, description='rcnn-notran-nolstm-atnn')\n",
    "box5 = Checkbox(False, description='resnet-notran-nolstm-ctc')\n",
    "box6 = Checkbox(False, description='resnet-notran-nolstm-atnn')\n",
    "display(box1,box2,box3,box4,box5,box6)\n",
    "\n",
    "def changed(b):\n",
    "    print(b)\n",
    "\n",
    "box1.observe(changed)\n",
    "box2.observe(changed)\n",
    "box3.observe(changed)\n",
    "box4.observe(changed)\n",
    "box5.observe(changed)\n",
    "box6.observe(changed)"
   ]
  },
  {
   "cell_type": "markdown",
   "id": "dc69314d-e788-4f7d-a247-3d509e63df53",
   "metadata": {},
   "source": [
    "### Experiment summary\n",
    "By using ResNet (no Transformation, no BiLTSM) with ctc prediction, an prediction accuracy of over 98 % was achieved.\n",
    "\n",
    "|Model|Exp Name|Accuracy|\n",
    "|:---:|:---:|:---:|\n",
    "|VGG | vgg-notran-nolstm-ctc |90.837|\n",
    "|VGG | vgg-tps-nolstm-ctc|64.542|\n",
    "|VGG |vgg-notran-nolstm-attn|86.853|\n",
    "|RCNN | rcnn-notran-nolstm-ctc |80.080|\n",
    "|RCNN | rcnn-notran-nolstm-atnn | - |\n",
    "|ResNet | resnet-notran-nolstm-ctc |<mark>98.805</mark>|\n",
    "|ResNet | resnet-notran-nolstm-atnn |94.422|"
   ]
  },
  {
   "cell_type": "markdown",
   "id": "cb287fba-d254-4752-8c43-f55f0117762a",
   "metadata": {
    "tags": []
   },
   "source": [
    "Command to train ResNet with a batch size of 50:\n",
    "\n",
    "```\n",
    "!CUDA_VISIBLE_DEVICES=0 python3 train.py --exp_name resnet-notran-nolstm-ctc-bs50 \\\n",
    "--train_data result/train --valid_data result/test --batch_size 50 \\\n",
    "--Transformation None --FeatureExtraction ResNet --SequenceModeling None --Prediction CTC \\\n",
    "--num_iter 10000 --valInterval 1000 \\\n",
    "--saved_model saved_models/resnet-notran-nolstm-ctc/best_accuracy.pth\n",
    "```"
   ]
  },
  {
   "cell_type": "markdown",
   "id": "f4cdf861-c062-49d5-af80-3667d8888c17",
   "metadata": {},
   "source": [
    "### Predict readings from trained model"
   ]
  },
  {
   "cell_type": "code",
   "execution_count": 1,
   "id": "de86d214-f3ef-43e3-9f6c-291cc6c44469",
   "metadata": {},
   "outputs": [
    {
     "name": "stdout",
     "output_type": "stream",
     "text": [
      "/mnt/c/Users/stcik/scire/papers/muon/deep-text-recognition-benchmark\n"
     ]
    }
   ],
   "source": [
    "%cd /mnt/c/Users/stcik/scire/papers/muon/deep-text-recognition-benchmark"
   ]
  },
  {
   "cell_type": "code",
   "execution_count": 2,
   "id": "dddcd062-2612-4f92-b847-903b4460eb08",
   "metadata": {},
   "outputs": [],
   "source": [
    "# Predict 90C data\n",
    "output = !python3 predict.py \\\n",
    "--Transformation None --FeatureExtraction ResNet --SequenceModeling None --Prediction CTC \\\n",
    "--image_folder 90C/ --batch_size 400 \\\n",
    "--saved_model resnet-notran-nolstm-ctc-50bs.pth"
   ]
  },
  {
   "cell_type": "code",
   "execution_count": 6,
   "id": "6b29e14c-5020-463d-8fab-24e6acfd2753",
   "metadata": {},
   "outputs": [
    {
     "data": {
      "text/plain": [
       "['No Transformation module specified',\n",
       " 'No SequenceModeling module specified',\n",
       " 'model input parameters 32 100 20 1 512 256 12 25 None ResNet None CTC',\n",
       " 'loading pretrained model from resnet-notran-nolstm-ctc-50bs.pth',\n",
       " '--------------------------------------------------------------------------------',\n",
       " 'image_path               \\tpredicted_labels         \\tconfidence score',\n",
       " '--------------------------------------------------------------------------------',\n",
       " '90C/90C_00001.jpg        \\t90.6                     \\t0.9260',\n",
       " '90C/90C_00002.jpg        \\t90.2                     \\t0.4132',\n",
       " '90C/90C_00003.jpg        \\t90.4                     \\t0.4597',\n",
       " '90C/90C_00004.jpg        \\t90.4                     \\t0.6889',\n",
       " '90C/90C_00005.jpg        \\t89.9                     \\t0.8157',\n",
       " '90C/90C_00006.jpg        \\t89.4                     \\t0.8915',\n",
       " '90C/90C_00007.jpg        \\t89.4                     \\t0.8893',\n",
       " '90C/90C_00008.jpg        \\t88.9                     \\t0.6254',\n",
       " '90C/90C_00009.jpg        \\t89.3                     \\t0.7556',\n",
       " '90C/90C_00010.jpg        \\t89.3                     \\t0.8855',\n",
       " '90C/90C_00011.jpg        \\t89.6                     \\t0.9454',\n",
       " '90C/90C_00012.jpg        \\t90.1                     \\t0.8667',\n",
       " '90C/90C_00013.jpg        \\t90.1                     \\t0.9133',\n",
       " '90C/90C_00014.jpg        \\t90.1                     \\t0.6727',\n",
       " '90C/90C_00015.jpg        \\t90.1                     \\t0.6812',\n",
       " '90C/90C_00016.jpg        \\t90.5                     \\t0.9786',\n",
       " '90C/90C_00017.jpg        \\t90.5                     \\t0.9531',\n",
       " '90C/90C_00018.jpg        \\t90.7                     \\t0.3823',\n",
       " '90C/90C_00019.jpg        \\t90.9                     \\t0.9684',\n",
       " '90C/90C_00020.jpg        \\t90.9                     \\t0.7335',\n",
       " '90C/90C_00021.jpg        \\t91.2                     \\t0.9164',\n",
       " '90C/90C_00022.jpg        \\t91.0                     \\t0.8443',\n",
       " '90C/90C_00023.jpg        \\t91.0                     \\t0.6517',\n",
       " '90C/90C_00024.jpg        \\t90.9                     \\t0.8406',\n",
       " '90C/90C_00025.jpg        \\t90.9                     \\t0.9026',\n",
       " '90C/90C_00026.jpg        \\t91.3                     \\t0.9660',\n",
       " '90C/90C_00027.jpg        \\t91.3                     \\t0.9560',\n",
       " '90C/90C_00028.jpg        \\t91.3                     \\t0.9541',\n",
       " '90C/90C_00029.jpg        \\t91.3                     \\t0.9802',\n",
       " '90C/90C_00030.jpg        \\t91.4                     \\t0.9155',\n",
       " '90C/90C_00031.jpg        \\t91.4                     \\t0.5502',\n",
       " '90C/90C_00032.jpg        \\t91.3                     \\t0.9826',\n",
       " '90C/90C_00033.jpg        \\t91.3                     \\t0.9797',\n",
       " '90C/90C_00034.jpg        \\t91.7                     \\t0.8735',\n",
       " '90C/90C_00035.jpg        \\t91.7                     \\t0.5008',\n",
       " '90C/90C_00036.jpg        \\t91.8                     \\t0.7482',\n",
       " '90C/90C_00037.jpg        \\t91.9                     \\t0.9304',\n",
       " '90C/90C_00038.jpg        \\t91.9                     \\t0.9529',\n",
       " '90C/90C_00039.jpg        \\t92.2                     \\t0.7149',\n",
       " '90C/90C_00040.jpg        \\t92.5                     \\t0.9451',\n",
       " '90C/90C_00041.jpg        \\t92.5                     \\t0.8780',\n",
       " '90C/90C_00042.jpg        \\t92.7                     \\t0.3061',\n",
       " '90C/90C_00043.jpg        \\t92.6                     \\t0.8581',\n",
       " '90C/90C_00044.jpg        \\t92.6                     \\t0.7194',\n",
       " '90C/90C_00045.jpg        \\t92.6                     \\t0.8231',\n",
       " '90C/90C_00046.jpg        \\t92.7                     \\t0.3484',\n",
       " '90C/90C_00047.jpg        \\t92.7                     \\t0.4737',\n",
       " '90C/90C_00048.jpg        \\t92.7                     \\t0.4586',\n",
       " '90C/90C_00049.jpg        \\t92.7                     \\t0.2290',\n",
       " '90C/90C_00050.jpg        \\t92.3                     \\t0.5724',\n",
       " '90C/90C_00051.jpg        \\t92.4                     \\t0.4780',\n",
       " '90C/90C_00052.jpg        \\t91.9                     \\t0.7439',\n",
       " '90C/90C_00053.jpg        \\t91.8                     \\t0.8034',\n",
       " '90C/90C_00054.jpg        \\t91.8                     \\t0.7639',\n",
       " '90C/90C_00055.jpg        \\t91.2                     \\t0.7996',\n",
       " '90C/90C_00056.jpg        \\t91.2                     \\t0.8184',\n",
       " '90C/90C_00057.jpg        \\t91.2                     \\t0.9601',\n",
       " '90C/90C_00058.jpg        \\t91.3                     \\t0.9830',\n",
       " '90C/90C_00059.jpg        \\t91.3                     \\t0.8894',\n",
       " '90C/90C_00060.jpg        \\t91.4                     \\t0.8435',\n",
       " '90C/90C_00061.jpg        \\t91.0                     \\t0.9166',\n",
       " '90C/90C_00062.jpg        \\t91.0                     \\t0.8326',\n",
       " '90C/90C_00063.jpg        \\t90.8                     \\t0.5681',\n",
       " '90C/90C_00064.jpg        \\t90.7                     \\t0.4979',\n",
       " '90C/90C_00065.jpg        \\t90.7                     \\t0.4035',\n",
       " '90C/90C_00066.jpg        \\t91.3                     \\t0.9836',\n",
       " '90C/90C_00067.jpg        \\t91.6                     \\t0.9806',\n",
       " '90C/90C_00068.jpg        \\t91.8                     \\t0.6559',\n",
       " '90C/90C_00069.jpg        \\t91.8                     \\t0.8275',\n",
       " '90C/90C_00070.jpg        \\t91.8                     \\t0.8524',\n",
       " '90C/90C_00071.jpg        \\t91.8                     \\t0.8793',\n",
       " '90C/90C_00072.jpg        \\t92.3                     \\t0.5861',\n",
       " '90C/90C_00073.jpg        \\t92.2                     \\t0.2892',\n",
       " '90C/90C_00074.jpg        \\t92.2                     \\t0.3812',\n",
       " '90C/90C_00075.jpg        \\t92.1                     \\t0.7446',\n",
       " '90C/90C_00076.jpg        \\t92.2                     \\t0.4035',\n",
       " '90C/90C_00077.jpg        \\t92.2                     \\t0.7735',\n",
       " '90C/90C_00078.jpg        \\t92.4                     \\t0.4041',\n",
       " '90C/90C_00079.jpg        \\t91.9                     \\t0.4874',\n",
       " '90C/90C_00080.jpg        \\t91.9                     \\t0.6911',\n",
       " '90C/90C_00081.jpg        \\t91.3                     \\t0.9602',\n",
       " '90C/90C_00082.jpg        \\t91.1                     \\t0.9683',\n",
       " '90C/90C_00083.jpg        \\t91.1                     \\t0.8846',\n",
       " '90C/90C_00084.jpg        \\t90.9                     \\t0.7075',\n",
       " '90C/90C_00085.jpg        \\t90.9                     \\t0.8356',\n",
       " '90C/90C_00086.jpg        \\t91.0                     \\t0.8974',\n",
       " '90C/90C_00087.jpg        \\t91.0                     \\t0.6161',\n",
       " '90C/90C_00088.jpg        \\t90.6                     \\t0.7410',\n",
       " '90C/90C_00089.jpg        \\t90.2                     \\t0.3348',\n",
       " '90C/90C_00090.jpg        \\t90.2                     \\t0.5230',\n",
       " '90C/90C_00091.jpg        \\t89.9                     \\t0.8311',\n",
       " '90C/90C_00092.jpg        \\t89.5                     \\t0.6285',\n",
       " '90C/90C_00093.jpg        \\t89.5                     \\t0.4678',\n",
       " '90C/90C_00094.jpg        \\t89.0                     \\t0.7017',\n",
       " '90C/90C_00095.jpg        \\t89.0                     \\t0.4731',\n",
       " '90C/90C_00096.jpg        \\t89.3                     \\t0.8350',\n",
       " '90C/90C_00097.jpg        \\t89.8                     \\t0.7784',\n",
       " '90C/90C_00098.jpg        \\t89.8                     \\t0.7843',\n",
       " '90C/90C_00099.jpg        \\t89.9                     \\t0.7686',\n",
       " '90C/90C_00100.jpg        \\t89.8                     \\t0.7382',\n",
       " '90C/90C_00101.jpg        \\t89.8                     \\t0.9335',\n",
       " '90C/90C_00102.jpg        \\t89.3                     \\t0.8551',\n",
       " '90C/90C_00103.jpg        \\t89.0                     \\t0.6283',\n",
       " '90C/90C_00104.jpg        \\t89.0                     \\t0.6481',\n",
       " '90C/90C_00105.jpg        \\t88.8                     \\t0.7270',\n",
       " '90C/90C_00106.jpg        \\t88.6                     \\t0.9647',\n",
       " '90C/90C_00107.jpg        \\t89.0                     \\t0.5884',\n",
       " '90C/90C_00108.jpg        \\t89.0                     \\t0.5903',\n",
       " '90C/90C_00109.jpg        \\t89.3                     \\t0.7323',\n",
       " '90C/90C_00110.jpg        \\t89.3                     \\t0.9141',\n",
       " '90C/90C_00111.jpg        \\t89.3                     \\t0.5818',\n",
       " '90C/90C_00112.jpg        \\t89.4                     \\t0.5437',\n",
       " '90C/90C_00113.jpg        \\t90.0                     \\t0.6199',\n",
       " '90C/90C_00114.jpg        \\t90.0                     \\t0.5105',\n",
       " '90C/90C_00115.jpg        \\t90.1                     \\t0.6538',\n",
       " '90C/90C_00116.jpg        \\t90.4                     \\t0.8623',\n",
       " '90C/90C_00117.jpg        \\t90.4                     \\t0.4530',\n",
       " '90C/90C_00118.jpg        \\t90.8                     \\t0.8426',\n",
       " '90C/90C_00119.jpg        \\t90.8                     \\t0.9190',\n",
       " '90C/90C_00120.jpg        \\t91.1                     \\t0.8692',\n",
       " '90C/90C_00121.jpg        \\t91.3                     \\t0.9734',\n",
       " '90C/90C_00122.jpg        \\t91.3                     \\t0.9769',\n",
       " '90C/90C_00123.jpg        \\t90.6                     \\t0.8795',\n",
       " '90C/90C_00124.jpg        \\t90.2                     \\t0.7917',\n",
       " '90C/90C_00125.jpg        \\t90.2                     \\t0.8552',\n",
       " '90C/90C_00126.jpg        \\t89.9                     \\t0.5727',\n",
       " '90C/90C_00127.jpg        \\t90.5                     \\t0.9812',\n",
       " '90C/90C_00128.jpg        \\t90.8                     \\t0.8634',\n",
       " '90C/90C_00129.jpg        \\t90.8                     \\t0.8128',\n",
       " '90C/90C_00130.jpg        \\t90.9                     \\t0.9598',\n",
       " '90C/90C_00131.jpg        \\t91.1                     \\t0.8913',\n",
       " '90C/90C_00132.jpg        \\t91.1                     \\t0.9105',\n",
       " '90C/90C_00133.jpg        \\t91.0                     \\t0.7302',\n",
       " '90C/90C_00134.jpg        \\t90.7                     \\t0.5978',\n",
       " '90C/90C_00135.jpg        \\t90.7                     \\t0.3661',\n",
       " '90C/90C_00136.jpg        \\t91.1                     \\t0.9289',\n",
       " '90C/90C_00137.jpg        \\t91.5                     \\t0.6244',\n",
       " '90C/90C_00138.jpg        \\t91.5                     \\t0.9137',\n",
       " '90C/90C_00139.jpg        \\t91.6                     \\t0.9617',\n",
       " '90C/90C_00140.jpg        \\t91.6                     \\t0.8355',\n",
       " '90C/90C_00141.jpg        \\t91.5                     \\t0.7361',\n",
       " '90C/90C_00142.jpg        \\t91.5                     \\t0.6420',\n",
       " '90C/90C_00143.jpg        \\t91.5                     \\t0.5567',\n",
       " '90C/90C_00144.jpg        \\t91.4                     \\t0.8364',\n",
       " '90C/90C_00145.jpg        \\t92.1                     \\t0.3249',\n",
       " '90C/90C_00146.jpg        \\t92.1                     \\t0.6652',\n",
       " '90C/90C_00147.jpg        \\t91.9                     \\t0.9419',\n",
       " '90C/90C_00148.jpg        \\t91.9                     \\t0.9031',\n",
       " '90C/90C_00149.jpg        \\t92.4                     \\t0.7018',\n",
       " '90C/90C_00150.jpg        \\t92.4                     \\t0.7452',\n",
       " '90C/90C_00151.jpg        \\t92.2                     \\t0.2975',\n",
       " '90C/90C_00152.jpg        \\t91.6                     \\t0.9852',\n",
       " '90C/90C_00153.jpg        \\t91.6                     \\t0.9855',\n",
       " '90C/90C_00154.jpg        \\t91.3                     \\t0.9763',\n",
       " '90C/90C_00155.jpg        \\t91.3                     \\t0.9444',\n",
       " '90C/90C_00156.jpg        \\t91.3                     \\t0.9806',\n",
       " '90C/90C_00157.jpg        \\t90.9                     \\t0.8170',\n",
       " '90C/90C_00158.jpg        \\t90.9                     \\t0.8315',\n",
       " '90C/90C_00159.jpg        \\t90.9                     \\t0.8036',\n",
       " '90C/90C_00160.jpg        \\t90.8                     \\t0.8085',\n",
       " '90C/90C_00161.jpg        \\t90.7                     \\t0.4873',\n",
       " '90C/90C_00162.jpg        \\t90.5                     \\t0.9656',\n",
       " '90C/90C_00163.jpg        \\t90.5                     \\t0.9646',\n",
       " '90C/90C_00164.jpg        \\t90.9                     \\t0.8109',\n",
       " '90C/90C_00165.jpg        \\t91.4                     \\t0.9739',\n",
       " '90C/90C_00166.jpg        \\t91.4                     \\t0.6388',\n",
       " '90C/90C_00167.jpg        \\t91.4                     \\t0.9147',\n",
       " '90C/90C_00168.jpg        \\t91.7                     \\t0.3687',\n",
       " '90C/90C_00169.jpg        \\t91.7                     \\t0.4836',\n",
       " '90C/90C_00170.jpg        \\t91.7                     \\t0.4029',\n",
       " '90C/90C_00171.jpg        \\t91.7                     \\t0.6073',\n",
       " '90C/90C_00172.jpg        \\t91.7                     \\t0.8461',\n",
       " '90C/90C_00173.jpg        \\t91.4                     \\t0.5916',\n",
       " '90C/90C_00174.jpg        \\t91.4                     \\t0.4613',\n",
       " '90C/90C_00175.jpg        \\t91.1                     \\t0.8330',\n",
       " '90C/90C_00176.jpg        \\t90.7                     \\t0.8068',\n",
       " '90C/90C_00177.jpg        \\t90.7                     \\t0.7801',\n",
       " '90C/90C_00178.jpg        \\t90.4                     \\t0.8073',\n",
       " '90C/90C_00179.jpg        \\t90.3                     \\t0.4288',\n",
       " '90C/90C_00180.jpg        \\t90.3                     \\t0.3450',\n",
       " '90C/90C_00181.jpg        \\t90.4                     \\t0.6331',\n",
       " '90C/90C_00182.jpg        \\t90.4                     \\t0.8655',\n",
       " '90C/90C_00183.jpg        \\t90.6                     \\t0.9419',\n",
       " '90C/90C_00184.jpg        \\t90.6                     \\t0.9460',\n",
       " '90C/90C_00185.jpg        \\t90.9                     \\t0.8473',\n",
       " '90C/90C_00186.jpg        \\t91.3                     \\t0.9824',\n",
       " '90C/90C_00187.jpg        \\t91.3                     \\t0.9686',\n",
       " '90C/90C_00188.jpg        \\t91.3                     \\t0.9778',\n",
       " '90C/90C_00189.jpg        \\t91.3                     \\t0.9749',\n",
       " '90C/90C_00190.jpg        \\t91.3                     \\t0.9756',\n",
       " '90C/90C_00191.jpg        \\t91.3                     \\t0.9765',\n",
       " '90C/90C_00192.jpg        \\t91.3                     \\t0.9700',\n",
       " '90C/90C_00193.jpg        \\t91.3                     \\t0.9729',\n",
       " '90C/90C_00194.jpg        \\t90.9                     \\t0.4508',\n",
       " '90C/90C_00195.jpg        \\t90.9                     \\t0.2593']"
      ]
     },
     "execution_count": 6,
     "metadata": {},
     "output_type": "execute_result"
    }
   ],
   "source": [
    "output"
   ]
  },
  {
   "cell_type": "code",
   "execution_count": 3,
   "id": "3fb49760-3357-4208-b96a-f7784d1e761e",
   "metadata": {},
   "outputs": [],
   "source": [
    "from IPython.core.display import display, HTML\n",
    "from PIL import Image\n",
    "import base64\n",
    "import io\n",
    "import pandas as pd\n",
    "import numpy as np\n",
    "import matplotlib.pyplot as plt"
   ]
  },
  {
   "cell_type": "code",
   "execution_count": 4,
   "id": "516fec5c-4971-49d1-ac2c-9c6c9d78fb81",
   "metadata": {},
   "outputs": [],
   "source": [
    "from cycler import cycler\n",
    "plt.rcParams.update({\n",
    "    \"text.usetex\": True,\n",
    "    \"font.family\": \"DejaVu Sans\",\n",
    "    \"font.serif\": [\"Computer Modern Roman\"],\n",
    "    \"font.size\": 10,\n",
    "    \"xtick.labelsize\": 10,\n",
    "    \"ytick.labelsize\": 10,\n",
    "    \"figure.subplot.left\": 0.21,\n",
    "    \"figure.subplot.right\": 0.96,\n",
    "    \"figure.subplot.bottom\": 0.18,\n",
    "    \"figure.subplot.top\": 0.93,\n",
    "    \"legend.frameon\": False,\n",
    "})\n",
    "params= {'text.latex.preamble' : [r'\\usepackage{amsmath, amssymb, unicode-math}',\n",
    "                                  r'\\usepackage[dvips]{graphicx}',\n",
    "                                  r'\\usepackage{xfrac}', r'\\usepackage{amsbsy}']}"
   ]
  },
  {
   "cell_type": "code",
   "execution_count": 7,
   "id": "9dad2e9b-a94e-403b-ae7c-5d24d12e8b8d",
   "metadata": {
    "tags": []
   },
   "outputs": [
    {
     "ename": "ValueError",
     "evalue": "'image_path \\tpredicted_labels \\tconfidence score' is not in list",
     "output_type": "error",
     "traceback": [
      "\u001b[0;31m---------------------------------------------------------------------------\u001b[0m",
      "\u001b[0;31mValueError\u001b[0m                                Traceback (most recent call last)",
      "\u001b[0;32m/tmp/ipykernel_4036/3835063748.py\u001b[0m in \u001b[0;36m<module>\u001b[0;34m\u001b[0m\n\u001b[1;32m      1\u001b[0m \u001b[0mdata\u001b[0m \u001b[0;34m=\u001b[0m \u001b[0mpd\u001b[0m\u001b[0;34m.\u001b[0m\u001b[0mDataFrame\u001b[0m\u001b[0;34m(\u001b[0m\u001b[0;34m)\u001b[0m\u001b[0;34m\u001b[0m\u001b[0;34m\u001b[0m\u001b[0m\n\u001b[1;32m      2\u001b[0m for ind, row in enumerate(output[\n\u001b[0;32m----> 3\u001b[0;31m     \u001b[0moutput\u001b[0m\u001b[0;34m.\u001b[0m\u001b[0mindex\u001b[0m\u001b[0;34m(\u001b[0m\u001b[0;34m'image_path \\tpredicted_labels \\tconfidence score'\u001b[0m\u001b[0;34m)\u001b[0m\u001b[0;34m+\u001b[0m\u001b[0;36m2\u001b[0m\u001b[0;34m:\u001b[0m\u001b[0;34m\u001b[0m\u001b[0;34m\u001b[0m\u001b[0m\n\u001b[0m\u001b[1;32m      4\u001b[0m ]):\n\u001b[1;32m      5\u001b[0m     \u001b[0mrow\u001b[0m \u001b[0;34m=\u001b[0m \u001b[0mrow\u001b[0m\u001b[0;34m.\u001b[0m\u001b[0msplit\u001b[0m\u001b[0;34m(\u001b[0m\u001b[0;34m'\\t'\u001b[0m\u001b[0;34m)\u001b[0m\u001b[0;34m\u001b[0m\u001b[0;34m\u001b[0m\u001b[0m\n",
      "\u001b[0;31mValueError\u001b[0m: 'image_path \\tpredicted_labels \\tconfidence score' is not in list"
     ]
    }
   ],
   "source": [
    "data = pd.DataFrame()\n",
    "for ind, row in enumerate(output[\n",
    "    output.index('image_path \\tpredicted_labels \\tconfidence score')+2:\n",
    "]):\n",
    "    row = row.split('\\t')\n",
    "    filename = row[0].strip()\n",
    "    label = row[1].strip()\n",
    "    conf = row[2].strip()\n",
    "    img = Image.open(filename)\n",
    "    img_buffer = io.BytesIO()\n",
    "    img.save(img_buffer, format=\"PNG\")\n",
    "    imgStr = base64.b64encode(img_buffer.getvalue()).decode(\"utf-8\") \n",
    "\n",
    "    data.loc[ind, 'Image'] = '<img src=\"data:image/png;base64,{0:s}\">'.format(imgStr)\n",
    "    data.loc[ind, 'File name'] = filename\n",
    "    data.loc[ind, 'Reading'] = label\n",
    "    data.loc[ind, 'Confidence'] = conf\n",
    "\n",
    "html_all = data.to_html(escape=False)\n",
    "display(HTML(html_all))"
   ]
  },
  {
   "cell_type": "markdown",
   "id": "d541dc5f-bac3-46a3-9aa7-abdfec7c0792",
   "metadata": {},
   "source": [
    "### Visualise the predicted data, correct wrong readings and calculate the average and error off the readings."
   ]
  },
  {
   "cell_type": "markdown",
   "id": "bb605548-5284-44f3-9db0-e7b4f401675e",
   "metadata": {},
   "source": [
    "Correct the readings"
   ]
  },
  {
   "cell_type": "code",
   "execution_count": 9,
   "id": "e0d1c610-d999-4951-b9fa-46d97a76befa",
   "metadata": {},
   "outputs": [
    {
     "data": {
      "text/html": [
       "<table border=\"1\" class=\"dataframe\">\n",
       "  <thead>\n",
       "    <tr style=\"text-align: right;\">\n",
       "      <th></th>\n",
       "      <th>Image</th>\n",
       "      <th>File name</th>\n",
       "      <th>Reading</th>\n",
       "      <th>Confidence</th>\n",
       "    </tr>\n",
       "  </thead>\n",
       "  <tbody>\n",
       "  </tbody>\n",
       "</table>"
      ],
      "text/plain": [
       "<IPython.core.display.HTML object>"
      ]
     },
     "metadata": {},
     "output_type": "display_data"
    }
   ],
   "source": [
    "# Convert data from string to float\n",
    "data['Reading']=data['Reading'].astype(float)\n",
    "# selecting rows based on condition\n",
    "rslt_df = data[(data['Reading'] < 85) | (data['Reading'] > 95)]\n",
    "html_failed = rslt_df.to_html(escape=False)\n",
    "display(HTML(html_failed))"
   ]
  },
  {
   "cell_type": "code",
   "execution_count": null,
   "id": "f2952c04-1e11-4fba-a43f-f7b09fa36c1e",
   "metadata": {},
   "outputs": [],
   "source": [
    "data['Reading'].to_excel(\"90C_readings.xlsx\")"
   ]
  },
  {
   "cell_type": "markdown",
   "id": "7b0b8ff3-6d4f-499d-a4cf-719febdbad07",
   "metadata": {},
   "source": [
    "There are no wrong predictions, we can directly plot the data."
   ]
  },
  {
   "cell_type": "code",
   "execution_count": 12,
   "id": "be72a6ef-bfb3-4c2c-a4e7-0f4f1e62af92",
   "metadata": {},
   "outputs": [],
   "source": [
    "import numpy as np\n",
    "import matplotlib.pyplot as plt\n",
    "\n",
    "def adjacent_values(vals, q1, q3):\n",
    "    upper_adjacent_value = q3 + (q3 - q1) * 1.5\n",
    "    upper_adjacent_value = np.clip(upper_adjacent_value, q3, vals[-1])\n",
    "\n",
    "    lower_adjacent_value = q1 - (q3 - q1) * 1.5\n",
    "    lower_adjacent_value = np.clip(lower_adjacent_value, vals[0], q1)\n",
    "    return lower_adjacent_value, upper_adjacent_value"
   ]
  },
  {
   "cell_type": "code",
   "execution_count": 24,
   "id": "7902fa66-9a46-449e-9281-036d526f650e",
   "metadata": {},
   "outputs": [
    {
     "data": {
      "image/png": "[encoded data removed]",
      "text/plain": [
       "<Figure size 460.8x216 with 2 Axes>"
      ]
     },
     "metadata": {
      "needs_background": "light"
     },
     "output_type": "display_data"
    }
   ],
   "source": [
    "fig, ax = plt.subplots(1,2,figsize=(6.4,3),tight_layout=True)\n",
    "\n",
    "time = range(1,196)\n",
    "num_bins = 20\n",
    "\n",
    "# the histogram of the data\n",
    "ax[0].plot(time,data['Reading'])\n",
    "ax[0].set_xlabel('$t$ (s)')\n",
    "ax[0].set_ylabel('Readings ($\\degree$C)')\n",
    "\n",
    "violin_data = [sorted(data['Reading'])]\n",
    "\n",
    "parts = ax[1].violinplot(violin_data, positions=[0],\n",
    "                         showmeans=False, showmedians=False, showextrema=False)\n",
    "\n",
    "for pc in parts['bodies']:\n",
    "    pc.set_facecolor('#D43F3A')\n",
    "    pc.set_edgecolor('black')\n",
    "    pc.set_alpha(1)\n",
    "\n",
    "quartile1, medians, quartile3 = np.percentile(violin_data, [25, 50, 75], axis=1)\n",
    "whiskers = np.array([\n",
    "    adjacent_values(sorted_array, q1, q3)\n",
    "    for sorted_array, q1, q3 in zip(violin_data, quartile1, quartile3)])\n",
    "whiskers_min, whiskers_max = whiskers[:, 0], whiskers[:, 1]\n",
    "mean=np.mean(violin_data)\n",
    "inds = np.arange(0, len(medians))\n",
    "ax[1].scatter(inds, medians, marker='o', edgecolors='tab:blue',\n",
    "              c='white', s=55, zorder=3, label = f'median: %.1f'% mean)\n",
    "ax[1].scatter(inds, mean, marker='s', edgecolors='tab:blue',\n",
    "              c='white', s=45, zorder=4, label = f'mean: %.1f'% medians)\n",
    "ax[1].vlines(inds, quartile1, quartile3, color='k', linestyle='-', lw=5)\n",
    "ax[1].vlines(inds, whiskers_min, whiskers_max, color='k', linestyle='-', lw=1)\n",
    "ax[1].set_xlabel('Probability density')\n",
    "ax[1].legend(frameon=False, loc=0)\n",
    "plt.savefig('90C_prediction.eps')\n",
    "plt.show()"
   ]
  }
 ],
 "metadata": {
  "kernelspec": {
   "display_name": "Python 3 (ipykernel)",
   "language": "python",
   "name": "python3"
  },
  "language_info": {
   "codemirror_mode": {
    "name": "ipython",
    "version": 3
   },
   "file_extension": ".py",
   "mimetype": "text/x-python",
   "name": "python",
   "nbconvert_exporter": "python",
   "pygments_lexer": "ipython3",
   "version": "3.8.10"
  },
  "metadata": {
   "interpreter": {
    "hash": "3373cd5515e5bfc1f370e2ada5bf46802ab8713cf83cab71bf66c216c27b5dbe"
   }
  }
 },
 "nbformat": 4,
 "nbformat_minor": 5
}
