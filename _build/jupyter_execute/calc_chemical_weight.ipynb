{
 "cells": [
  {
   "cell_type": "markdown",
   "id": "71ccc50a-a31a-4091-a1b7-47e060ce88a0",
   "metadata": {
    "tags": []
   },
   "source": [
    "# Calculation of chemical weight<br/>\n",
    "Lei Lei<br/>\n",
    "A script uses the molmass package to calculate the weight of raw chemials required for synthesis."
   ]
  },
  {
   "cell_type": "code",
   "execution_count": 1,
   "id": "2ef3c239-1d30-4795-b6c5-6ba7d262acd4",
   "metadata": {},
   "outputs": [],
   "source": [
    "from molmass import Formula"
   ]
  },
  {
   "cell_type": "code",
   "execution_count": 2,
   "id": "a03e7422-c00a-451d-b5c8-d0862c4e3f97",
   "metadata": {},
   "outputs": [
    {
     "data": {
      "text/plain": [
       "184.232762"
      ]
     },
     "execution_count": 2,
     "metadata": {},
     "output_type": "execute_result"
    }
   ],
   "source": [
    "# Test the mass method of formula object\n",
    "LSTO=Formula(\"La10Sr85Ti100O300\", groups=None)\n",
    "LSTO.mass/100"
   ]
  },
  {
   "cell_type": "code",
   "execution_count": 3,
   "id": "aba5115e-c7f9-472b-a7e2-25388fe790e2",
   "metadata": {},
   "outputs": [
    {
     "data": {
      "text/plain": [
       "(('O', 2, 31.99881, 0.4006571773328287), ('Ti', 1, 47.867, 0.5993428226671713))"
      ]
     },
     "execution_count": 3,
     "metadata": {},
     "output_type": "execute_result"
    }
   ],
   "source": [
    "# Test the composition method of formula object\n",
    "TiO2=Formula(\"TiO2\")\n",
    "TiO2.composition(False)"
   ]
  },
  {
   "cell_type": "markdown",
   "id": "c9bc03a1-109a-4d3e-a064-53ac92df567d",
   "metadata": {},
   "source": [
    "Input data, the information of chemicals and target compouds."
   ]
  },
  {
   "cell_type": "code",
   "execution_count": 4,
   "id": "a7aed1d3-3bb4-4e9f-9dbd-ff14671d97ce",
   "metadata": {},
   "outputs": [],
   "source": [
    "raw_materials={\n",
    "    \"La\": \"La2O3\",\n",
    "    \"Sr\": \"SrCO3\",\n",
    "    \"Ti\": \"TiO2\",\n",
    "}\n",
    "\n",
    "# Compounds and grams to synthesis\n",
    "TargetCompounds={\n",
    "    \"La10Sr85Ti100O300\": 5,\n",
    "    \"La20Sr70Ti100O300\": 5,\n",
    "    \"La30Sr55Ti100O300\": 5,\n",
    "    \"La40Sr40Ti100O300\": 5,\n",
    "}"
   ]
  },
  {
   "cell_type": "markdown",
   "id": "c9d3365c-f872-4bd6-b4c1-2b933e9456fe",
   "metadata": {},
   "source": [
    "Calculate the number of atoms and molar mass of the chemicals."
   ]
  },
  {
   "cell_type": "code",
   "execution_count": 5,
   "id": "b0ff660a-cdd2-461a-814d-a81f94cae466",
   "metadata": {},
   "outputs": [
    {
     "name": "stdout",
     "output_type": "stream",
     "text": [
      "La2O3: [2, 325.80915500000003]\n",
      "SrCO3: [1, 147.62895500000002]\n",
      "TiO2: [1, 79.86581]\n"
     ]
    }
   ],
   "source": [
    "# Compositions & number\n",
    "for element, chemical in raw_materials.items():\n",
    "    chemical_formula=Formula(chemical)\n",
    "    compositions=chemical_formula.composition(False)\n",
    "    for composition in compositions:\n",
    "        if composition[0]==element:\n",
    "            multiplicity=composition[1]\n",
    "            globals()[chemical]=[multiplicity, chemical_formula.mass]\n",
    "    print(chemical +\":\", globals()[chemical])"
   ]
  },
  {
   "cell_type": "markdown",
   "id": "30befec8-d273-4555-a432-9e0771c9de56",
   "metadata": {},
   "source": [
    "Calculate the moles of elements, store the results into a dict."
   ]
  },
  {
   "cell_type": "code",
   "execution_count": 6,
   "id": "293e0c9d-7ca2-4505-8547-332c3b7bff8f",
   "metadata": {
    "tags": []
   },
   "outputs": [
    {
     "name": "stdout",
     "output_type": "stream",
     "text": [
      "{'La': 0.0027139581178292275, 'Sr': 0.023068644001548434, 'Ti': 0.027139581178292273}\n",
      "{'La': 0.0054059808063138225, 'Sr': 0.018920932822098377, 'Ti': 0.02702990403156911}\n",
      "{'La': 0.008076332933063094, 'Sr': 0.014806610377282339, 'Ti': 0.02692110977687698}\n",
      "{'La': 0.010725275118456237, 'Sr': 0.010725275118456237, 'Ti': 0.026813187796140597}\n"
     ]
    }
   ],
   "source": [
    "for compound, weight in TargetCompounds.items():\n",
    "    LSTO=Formula(compound)\n",
    "    globals()[compound+\"_moles\"], globals()[compound+\"_composition\"]=weight/LSTO.mass, LSTO.composition(False)\n",
    "    # print(globals()[compound+\"_moles\"], \"\\n\", globals()[compound+\"_composition\"])\n",
    "    globals()[compound] = {}\n",
    "    for element in globals()[compound+\"_composition\"]:\n",
    "        if any(element[0] in key for key in raw_materials):\n",
    "            # The moles of elements\n",
    "            globals()[compound][element[0]] = globals()[compound+\"_moles\"]*element[1]\n",
    "    print(globals()[compound])"
   ]
  },
  {
   "cell_type": "markdown",
   "id": "eaea1a27-6d71-4171-b8ff-8de48d0dcf2f",
   "metadata": {},
   "source": [
    "Define a function to calculate the weight of raw materials:\n",
    "$$\n",
    "m(\\mathrm{chemical})=\\frac{n(\\mathrm{element}) \\times M(\\mathrm{chemical})}{N}\n",
    "$$\n",
    "where $M(\\mathrm{chemical})$ and $N$ are the molar mass and multiplicity (<i>i.e.</i> the number of atoms in the chemical formula) of the element. "
   ]
  },
  {
   "cell_type": "code",
   "execution_count": 7,
   "id": "9918f80c-c4a4-4749-b200-4387d5714d13",
   "metadata": {},
   "outputs": [],
   "source": [
    "def calc_weight(n, mm, multiple):\n",
    "    return n * mm / multiple"
   ]
  },
  {
   "cell_type": "markdown",
   "id": "c8d2bbfc-b9d6-44b9-884a-dfadaa1dfac0",
   "metadata": {},
   "source": [
    "Calculate the weight of chemicals to use by the `calc_weight` function."
   ]
  },
  {
   "cell_type": "code",
   "execution_count": 8,
   "id": "94b4deb9-eecd-49d5-9a69-a03326c08d1a",
   "metadata": {},
   "outputs": [
    {
     "name": "stdout",
     "output_type": "stream",
     "text": [
      "{'La2O3': 0.4421162005376656, 'SrCO3': 3.405599807215614, 'TiO2': 2.167524633865067}\n",
      "{'La2O3': 0.8806590192256627, 'SrCO3': 2.7932775401515846, 'TiO2': 2.1587651797035323}\n",
      "{'La2O3': 1.3156716042099792, 'SrCO3': 2.1858844170903478, 'TiO2': 2.1500762384291994}\n",
      "{'La2O3': 1.747196411743376, 'SrCO3': 1.5833611578251958, 'TiO2': 2.1414569620208836}\n"
     ]
    }
   ],
   "source": [
    "for compound, weight in TargetCompounds.items():\n",
    "    globals()[compound+\"_chemicals\"]={}\n",
    "    for element, chemical in raw_materials.items():\n",
    "        globals()[compound+\"_chemicals\"][chemical] = calc_weight (globals()[compound][element], globals()[chemical][1], globals()[chemical][0])\n",
    "    print(globals()[compound+\"_chemicals\"])"
   ]
  },
  {
   "cell_type": "code",
   "execution_count": 9,
   "id": "78bb6601-1d6a-4e04-be45-fa5af20062c7",
   "metadata": {},
   "outputs": [
    {
     "data": {
      "text/plain": [
       "<function TextIOWrapper.close()>"
      ]
     },
     "execution_count": 9,
     "metadata": {},
     "output_type": "execute_result"
    }
   ],
   "source": [
    "# Write a markdown file as record.\n",
    "from time import gmtime, strftime\n",
    "Title=\"# Calculation of chemical weights\\n\"\n",
    "author=\"Lei Lei\\n\"\n",
    "time = strftime(\"%Y-%m-%d %H:%M:%S\\n\", gmtime())\n",
    "description=\"Data generated by the code in the jupyter notebook `calc_chemical_weight.ipynb`.\"\n",
    "filename=\"AD-compositions.md\"\n",
    "\n",
    "with open (filename, 'w') as file:\n",
    "    file.write(Title)\n",
    "    file.write(author)\n",
    "    file.write(time)\n",
    "    file.write(description)\n",
    "    for compound, weight in TargetCompounds.items():\n",
    "        file.write(\"## \" + compound + \"\\n\")\n",
    "        for key, value in globals()[compound+\"_chemicals\"].items():\n",
    "            file.write(\"{0}: {1:.4f} g\\n\".format(key, value))\n",
    "file.close"
   ]
  }
 ],
 "metadata": {
  "kernelspec": {
   "display_name": "Python 3 (ipykernel)",
   "language": "python",
   "name": "python3"
  },
  "language_info": {
   "codemirror_mode": {
    "name": "ipython",
    "version": 3
   },
   "file_extension": ".py",
   "mimetype": "text/x-python",
   "name": "python",
   "nbconvert_exporter": "python",
   "pygments_lexer": "ipython3",
   "version": "3.8.10"
  }
 },
 "nbformat": 4,
 "nbformat_minor": 5
}